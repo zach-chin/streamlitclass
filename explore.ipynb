{
 "cells": [
  {
   "cell_type": "code",
   "source": "import pandas as pd\n# importing the dataset\nbaseball = pd.read_csv(\"player-batting-stats-1988-2016.csv\")\n# constants for the position and team\npos = \"P\"\nteam = \"BOS\"\n# constant for batting statistic (RBI)\nbatstat = \"RBI\"",
   "metadata": {
    "cell_id": "ae709ed61d534031879b4c9ea70d9cbf",
    "tags": [],
    "deepnote_to_be_reexecuted": false,
    "source_hash": "bc7c4c4c",
    "execution_start": 1648654939169,
    "execution_millis": 167,
    "deepnote_cell_type": "code",
    "deepnote_cell_height": 207
   },
   "outputs": [],
   "execution_count": null
  },
  {
   "cell_type": "code",
   "source": "baseball_filtered = baseball[baseball.Tm == team]\nbaseball_sorted = baseball_filtered.sort_values(batstat, ascending=False)\nbaseball_final = baseball_sorted.head(20)\nbaseball_final",
   "metadata": {
    "cell_id": "3d7bc94bb37f430a9be36d297a800827",
    "tags": [],
    "deepnote_to_be_reexecuted": false,
    "source_hash": "9f59cfaf",
    "execution_start": 1648655286483,
    "execution_millis": 284,
    "deepnote_table_state": {
     "pageSize": 10,
     "pageIndex": 0,
     "filters": [],
     "sortBy": []
    },
    "deepnote_table_loading": false,
    "deepnote_cell_type": "code",
    "deepnote_cell_height": 668.65625
   },
   "outputs": [
    {
     "output_type": "execute_result",
     "execution_count": 5,
     "data": {
      "application/vnd.deepnote.dataframe.v3+json": {
       "column_count": 31,
       "row_count": 20,
       "columns": [
        {
         "name": "Rk",
         "dtype": "float64",
         "stats": {
          "unique_count": 20,
          "nan_count": 0,
          "min": "90.0",
          "max": "1335.0",
          "histogram": [
           {
            "bin_start": 90,
            "bin_end": 214.5,
            "count": 2
           },
           {
            "bin_start": 214.5,
            "bin_end": 339,
            "count": 1
           },
           {
            "bin_start": 339,
            "bin_end": 463.5,
            "count": 3
           },
           {
            "bin_start": 463.5,
            "bin_end": 588,
            "count": 0
           },
           {
            "bin_start": 588,
            "bin_end": 712.5,
            "count": 0
           },
           {
            "bin_start": 712.5,
            "bin_end": 837,
            "count": 1
           },
           {
            "bin_start": 837,
            "bin_end": 961.5,
            "count": 5
           },
           {
            "bin_start": 961.5,
            "bin_end": 1086,
            "count": 6
           },
           {
            "bin_start": 1086,
            "bin_end": 1210.5,
            "count": 0
           },
           {
            "bin_start": 1210.5,
            "bin_end": 1335,
            "count": 2
           }
          ]
         }
        },
        {
         "name": "Name",
         "dtype": "object",
         "stats": {
          "unique_count": 11,
          "nan_count": 0,
          "categories": [
           {
            "name": "David Ortiz*",
            "count": 5
           },
           {
            "name": "Manny Ramirez",
            "count": 3
           },
           {
            "name": "9 others",
            "count": 12
           }
          ]
         }
        },
        {
         "name": "Age",
         "dtype": "float64",
         "stats": {
          "unique_count": 10,
          "nan_count": 0,
          "min": "23.0",
          "max": "40.0",
          "histogram": [
           {
            "bin_start": 23,
            "bin_end": 24.7,
            "count": 3
           },
           {
            "bin_start": 24.7,
            "bin_end": 26.4,
            "count": 0
           },
           {
            "bin_start": 26.4,
            "bin_end": 28.1,
            "count": 4
           },
           {
            "bin_start": 28.1,
            "bin_end": 29.8,
            "count": 4
           },
           {
            "bin_start": 29.8,
            "bin_end": 31.5,
            "count": 4
           },
           {
            "bin_start": 31.5,
            "bin_end": 33.2,
            "count": 4
           },
           {
            "bin_start": 33.2,
            "bin_end": 34.9,
            "count": 0
           },
           {
            "bin_start": 34.9,
            "bin_end": 36.6,
            "count": 0
           },
           {
            "bin_start": 36.6,
            "bin_end": 38.3,
            "count": 0
           },
           {
            "bin_start": 38.3,
            "bin_end": 40,
            "count": 1
           }
          ]
         }
        },
        {
         "name": "Tm",
         "dtype": "object",
         "stats": {
          "unique_count": 1,
          "nan_count": 0,
          "categories": [
           {
            "name": "BOS",
            "count": 20
           }
          ]
         }
        },
        {
         "name": "Lg",
         "dtype": "object",
         "stats": {
          "unique_count": 1,
          "nan_count": 0,
          "categories": [
           {
            "name": "AL",
            "count": 20
           }
          ]
         }
        },
        {
         "name": "G",
         "dtype": "int64",
         "stats": {
          "unique_count": 14,
          "nan_count": 0,
          "min": "140",
          "max": "161",
          "histogram": [
           {
            "bin_start": 140,
            "bin_end": 142.1,
            "count": 2
           },
           {
            "bin_start": 142.1,
            "bin_end": 144.2,
            "count": 1
           },
           {
            "bin_start": 144.2,
            "bin_end": 146.3,
            "count": 1
           },
           {
            "bin_start": 146.3,
            "bin_end": 148.4,
            "count": 1
           },
           {
            "bin_start": 148.4,
            "bin_end": 150.5,
            "count": 2
           },
           {
            "bin_start": 150.5,
            "bin_end": 152.6,
            "count": 5
           },
           {
            "bin_start": 152.6,
            "bin_end": 154.7,
            "count": 2
           },
           {
            "bin_start": 154.7,
            "bin_end": 156.8,
            "count": 1
           },
           {
            "bin_start": 156.8,
            "bin_end": 158.9,
            "count": 2
           },
           {
            "bin_start": 158.9,
            "bin_end": 161,
            "count": 3
           }
          ]
         }
        },
        {
         "name": "PA",
         "dtype": "int64",
         "stats": {
          "unique_count": 18,
          "nan_count": 0,
          "min": "620",
          "max": "752",
          "histogram": [
           {
            "bin_start": 620,
            "bin_end": 633.2,
            "count": 4
           },
           {
            "bin_start": 633.2,
            "bin_end": 646.4,
            "count": 2
           },
           {
            "bin_start": 646.4,
            "bin_end": 659.6,
            "count": 3
           },
           {
            "bin_start": 659.6,
            "bin_end": 672.8,
            "count": 3
           },
           {
            "bin_start": 672.8,
            "bin_end": 686,
            "count": 1
           },
           {
            "bin_start": 686,
            "bin_end": 699.2,
            "count": 3
           },
           {
            "bin_start": 699.2,
            "bin_end": 712.4,
            "count": 0
           },
           {
            "bin_start": 712.4,
            "bin_end": 725.6,
            "count": 2
           },
           {
            "bin_start": 725.6,
            "bin_end": 738.8,
            "count": 1
           },
           {
            "bin_start": 738.8,
            "bin_end": 752,
            "count": 1
           }
          ]
         }
        },
        {
         "name": "AB",
         "dtype": "int64",
         "stats": {
          "unique_count": 18,
          "nan_count": 0,
          "min": "529",
          "max": "672",
          "histogram": [
           {
            "bin_start": 529,
            "bin_end": 543.3,
            "count": 4
           },
           {
            "bin_start": 543.3,
            "bin_end": 557.6,
            "count": 4
           },
           {
            "bin_start": 557.6,
            "bin_end": 571.9,
            "count": 2
           },
           {
            "bin_start": 571.9,
            "bin_end": 586.2,
            "count": 1
           },
           {
            "bin_start": 586.2,
            "bin_end": 600.5,
            "count": 2
           },
           {
            "bin_start": 600.5,
            "bin_end": 614.8,
            "count": 3
           },
           {
            "bin_start": 614.8,
            "bin_end": 629.1,
            "count": 0
           },
           {
            "bin_start": 629.1,
            "bin_end": 643.4,
            "count": 3
           },
           {
            "bin_start": 643.4,
            "bin_end": 657.7,
            "count": 0
           },
           {
            "bin_start": 657.7,
            "bin_end": 672,
            "count": 1
           }
          ]
         }
        },
        {
         "name": "R",
         "dtype": "int64",
         "stats": {
          "unique_count": 18,
          "nan_count": 0,
          "min": "79",
          "max": "122",
          "histogram": [
           {
            "bin_start": 79,
            "bin_end": 83.3,
            "count": 3
           },
           {
            "bin_start": 83.3,
            "bin_end": 87.6,
            "count": 1
           },
           {
            "bin_start": 87.6,
            "bin_end": 91.9,
            "count": 1
           },
           {
            "bin_start": 91.9,
            "bin_end": 96.2,
            "count": 2
           },
           {
            "bin_start": 96.2,
            "bin_end": 100.5,
            "count": 1
           },
           {
            "bin_start": 100.5,
            "bin_end": 104.8,
            "count": 2
           },
           {
            "bin_start": 104.8,
            "bin_end": 109.1,
            "count": 3
           },
           {
            "bin_start": 109.1,
            "bin_end": 113.4,
            "count": 2
           },
           {
            "bin_start": 113.4,
            "bin_end": 117.69999999999999,
            "count": 2
           },
           {
            "bin_start": 117.69999999999999,
            "bin_end": 122,
            "count": 3
           }
          ]
         }
        },
        {
         "name": "H",
         "dtype": "int64",
         "stats": {
          "unique_count": 18,
          "nan_count": 0,
          "min": "142",
          "max": "214",
          "histogram": [
           {
            "bin_start": 142,
            "bin_end": 149.2,
            "count": 1
           },
           {
            "bin_start": 149.2,
            "bin_end": 156.4,
            "count": 0
           },
           {
            "bin_start": 156.4,
            "bin_end": 163.6,
            "count": 4
           },
           {
            "bin_start": 163.6,
            "bin_end": 170.8,
            "count": 3
           },
           {
            "bin_start": 170.8,
            "bin_end": 178,
            "count": 2
           },
           {
            "bin_start": 178,
            "bin_end": 185.2,
            "count": 2
           },
           {
            "bin_start": 185.2,
            "bin_end": 192.4,
            "count": 2
           },
           {
            "bin_start": 192.4,
            "bin_end": 199.6,
            "count": 2
           },
           {
            "bin_start": 199.6,
            "bin_end": 206.8,
            "count": 1
           },
           {
            "bin_start": 206.8,
            "bin_end": 214,
            "count": 3
           }
          ]
         }
        },
        {
         "name": "2B",
         "dtype": "int64",
         "stats": {
          "unique_count": 16,
          "nan_count": 0,
          "min": "28",
          "max": "56",
          "histogram": [
           {
            "bin_start": 28,
            "bin_end": 30.8,
            "count": 6
           },
           {
            "bin_start": 30.8,
            "bin_end": 33.6,
            "count": 2
           },
           {
            "bin_start": 33.6,
            "bin_end": 36.4,
            "count": 0
           },
           {
            "bin_start": 36.4,
            "bin_end": 39.2,
            "count": 3
           },
           {
            "bin_start": 39.2,
            "bin_end": 42,
            "count": 1
           },
           {
            "bin_start": 42,
            "bin_end": 44.8,
            "count": 3
           },
           {
            "bin_start": 44.8,
            "bin_end": 47.599999999999994,
            "count": 2
           },
           {
            "bin_start": 47.599999999999994,
            "bin_end": 50.4,
            "count": 1
           },
           {
            "bin_start": 50.4,
            "bin_end": 53.2,
            "count": 1
           },
           {
            "bin_start": 53.2,
            "bin_end": 56,
            "count": 1
           }
          ]
         }
        },
        {
         "name": "3B",
         "dtype": "int64",
         "stats": {
          "unique_count": 7,
          "nan_count": 0,
          "min": "0",
          "max": "8",
          "histogram": [
           {
            "bin_start": 0,
            "bin_end": 0.8,
            "count": 1
           },
           {
            "bin_start": 0.8,
            "bin_end": 1.6,
            "count": 6
           },
           {
            "bin_start": 1.6,
            "bin_end": 2.4000000000000004,
            "count": 4
           },
           {
            "bin_start": 2.4000000000000004,
            "bin_end": 3.2,
            "count": 4
           },
           {
            "bin_start": 3.2,
            "bin_end": 4,
            "count": 0
           },
           {
            "bin_start": 4,
            "bin_end": 4.800000000000001,
            "count": 1
           },
           {
            "bin_start": 4.800000000000001,
            "bin_end": 5.6000000000000005,
            "count": 2
           },
           {
            "bin_start": 5.6000000000000005,
            "bin_end": 6.4,
            "count": 0
           },
           {
            "bin_start": 6.4,
            "bin_end": 7.2,
            "count": 0
           },
           {
            "bin_start": 7.2,
            "bin_end": 8,
            "count": 2
           }
          ]
         }
        },
        {
         "name": "HR",
         "dtype": "int64",
         "stats": {
          "unique_count": 18,
          "nan_count": 0,
          "min": "21",
          "max": "54",
          "histogram": [
           {
            "bin_start": 21,
            "bin_end": 24.3,
            "count": 3
           },
           {
            "bin_start": 24.3,
            "bin_end": 27.6,
            "count": 1
           },
           {
            "bin_start": 27.6,
            "bin_end": 30.9,
            "count": 2
           },
           {
            "bin_start": 30.9,
            "bin_end": 34.2,
            "count": 1
           },
           {
            "bin_start": 34.2,
            "bin_end": 37.5,
            "count": 3
           },
           {
            "bin_start": 37.5,
            "bin_end": 40.8,
            "count": 3
           },
           {
            "bin_start": 40.8,
            "bin_end": 44.099999999999994,
            "count": 4
           },
           {
            "bin_start": 44.099999999999994,
            "bin_end": 47.4,
            "count": 2
           },
           {
            "bin_start": 47.4,
            "bin_end": 50.7,
            "count": 0
           },
           {
            "bin_start": 50.7,
            "bin_end": 54,
            "count": 1
           }
          ]
         }
        },
        {
         "name": "RBI",
         "dtype": "int64",
         "stats": {
          "unique_count": 16,
          "nan_count": 0,
          "min": "111",
          "max": "148",
          "histogram": [
           {
            "bin_start": 111,
            "bin_end": 114.7,
            "count": 2
           },
           {
            "bin_start": 114.7,
            "bin_end": 118.4,
            "count": 4
           },
           {
            "bin_start": 118.4,
            "bin_end": 122.1,
            "count": 5
           },
           {
            "bin_start": 122.1,
            "bin_end": 125.8,
            "count": 1
           },
           {
            "bin_start": 125.8,
            "bin_end": 129.5,
            "count": 2
           },
           {
            "bin_start": 129.5,
            "bin_end": 133.2,
            "count": 1
           },
           {
            "bin_start": 133.2,
            "bin_end": 136.9,
            "count": 0
           },
           {
            "bin_start": 136.9,
            "bin_end": 140.6,
            "count": 2
           },
           {
            "bin_start": 140.6,
            "bin_end": 144.3,
            "count": 2
           },
           {
            "bin_start": 144.3,
            "bin_end": 148,
            "count": 1
           }
          ]
         }
        },
        {
         "name": "SB",
         "dtype": "int64",
         "stats": {
          "unique_count": 11,
          "nan_count": 0,
          "min": "0",
          "max": "26",
          "histogram": [
           {
            "bin_start": 0,
            "bin_end": 2.6,
            "count": 10
           },
           {
            "bin_start": 2.6,
            "bin_end": 5.2,
            "count": 4
           },
           {
            "bin_start": 5.2,
            "bin_end": 7.800000000000001,
            "count": 0
           },
           {
            "bin_start": 7.800000000000001,
            "bin_end": 10.4,
            "count": 1
           },
           {
            "bin_start": 10.4,
            "bin_end": 13,
            "count": 2
           },
           {
            "bin_start": 13,
            "bin_end": 15.600000000000001,
            "count": 1
           },
           {
            "bin_start": 15.600000000000001,
            "bin_end": 18.2,
            "count": 1
           },
           {
            "bin_start": 18.2,
            "bin_end": 20.8,
            "count": 0
           },
           {
            "bin_start": 20.8,
            "bin_end": 23.400000000000002,
            "count": 0
           },
           {
            "bin_start": 23.400000000000002,
            "bin_end": 26,
            "count": 1
           }
          ]
         }
        },
        {
         "name": "CS",
         "dtype": "int64",
         "stats": {
          "unique_count": 8,
          "nan_count": 0,
          "min": "0",
          "max": "8",
          "histogram": [
           {
            "bin_start": 0,
            "bin_end": 0.8,
            "count": 8
           },
           {
            "bin_start": 0.8,
            "bin_end": 1.6,
            "count": 2
           },
           {
            "bin_start": 1.6,
            "bin_end": 2.4000000000000004,
            "count": 2
           },
           {
            "bin_start": 2.4000000000000004,
            "bin_end": 3.2,
            "count": 2
           },
           {
            "bin_start": 3.2,
            "bin_end": 4,
            "count": 0
           },
           {
            "bin_start": 4,
            "bin_end": 4.800000000000001,
            "count": 3
           },
           {
            "bin_start": 4.800000000000001,
            "bin_end": 5.6000000000000005,
            "count": 1
           },
           {
            "bin_start": 5.6000000000000005,
            "bin_end": 6.4,
            "count": 1
           },
           {
            "bin_start": 6.4,
            "bin_end": 7.2,
            "count": 0
           },
           {
            "bin_start": 7.2,
            "bin_end": 8,
            "count": 1
           }
          ]
         }
        },
        {
         "name": "BB",
         "dtype": "int64",
         "stats": {
          "unique_count": 19,
          "nan_count": 0,
          "min": "33",
          "max": "119",
          "histogram": [
           {
            "bin_start": 33,
            "bin_end": 41.6,
            "count": 2
           },
           {
            "bin_start": 41.6,
            "bin_end": 50.2,
            "count": 1
           },
           {
            "bin_start": 50.2,
            "bin_end": 58.8,
            "count": 1
           },
           {
            "bin_start": 58.8,
            "bin_end": 67.4,
            "count": 3
           },
           {
            "bin_start": 67.4,
            "bin_end": 76,
            "count": 3
           },
           {
            "bin_start": 76,
            "bin_end": 84.6,
            "count": 4
           },
           {
            "bin_start": 84.6,
            "bin_end": 93.19999999999999,
            "count": 1
           },
           {
            "bin_start": 93.19999999999999,
            "bin_end": 101.8,
            "count": 2
           },
           {
            "bin_start": 101.8,
            "bin_end": 110.39999999999999,
            "count": 1
           },
           {
            "bin_start": 110.39999999999999,
            "bin_end": 119,
            "count": 2
           }
          ]
         }
        },
        {
         "name": "SO",
         "dtype": "int64",
         "stats": {
          "unique_count": 18,
          "nan_count": 0,
          "min": "38",
          "max": "162",
          "histogram": [
           {
            "bin_start": 38,
            "bin_end": 50.4,
            "count": 1
           },
           {
            "bin_start": 50.4,
            "bin_end": 62.8,
            "count": 1
           },
           {
            "bin_start": 62.8,
            "bin_end": 75.2,
            "count": 2
           },
           {
            "bin_start": 75.2,
            "bin_end": 87.6,
            "count": 2
           },
           {
            "bin_start": 87.6,
            "bin_end": 100,
            "count": 0
           },
           {
            "bin_start": 100,
            "bin_end": 112.4,
            "count": 2
           },
           {
            "bin_start": 112.4,
            "bin_end": 124.8,
            "count": 6
           },
           {
            "bin_start": 124.8,
            "bin_end": 137.2,
            "count": 1
           },
           {
            "bin_start": 137.2,
            "bin_end": 149.60000000000002,
            "count": 2
           },
           {
            "bin_start": 149.60000000000002,
            "bin_end": 162,
            "count": 3
           }
          ]
         }
        },
        {
         "name": "BA",
         "dtype": "float64",
         "stats": {
          "unique_count": 19,
          "nan_count": 0,
          "min": "0.267",
          "max": "0.338",
          "histogram": [
           {
            "bin_start": 0.267,
            "bin_end": 0.2741,
            "count": 1
           },
           {
            "bin_start": 0.2741,
            "bin_end": 0.2812,
            "count": 0
           },
           {
            "bin_start": 0.2812,
            "bin_end": 0.2883,
            "count": 2
           },
           {
            "bin_start": 0.2883,
            "bin_end": 0.2954,
            "count": 1
           },
           {
            "bin_start": 0.2954,
            "bin_end": 0.3025,
            "count": 3
           },
           {
            "bin_start": 0.3025,
            "bin_end": 0.3096,
            "count": 2
           },
           {
            "bin_start": 0.3096,
            "bin_end": 0.31670000000000004,
            "count": 3
           },
           {
            "bin_start": 0.31670000000000004,
            "bin_end": 0.32380000000000003,
            "count": 2
           },
           {
            "bin_start": 0.32380000000000003,
            "bin_end": 0.3309,
            "count": 3
           },
           {
            "bin_start": 0.3309,
            "bin_end": 0.338,
            "count": 3
           }
          ]
         }
        },
        {
         "name": "OBP",
         "dtype": "float64",
         "stats": {
          "unique_count": 18,
          "nan_count": 0,
          "min": "0.352",
          "max": "0.445",
          "histogram": [
           {
            "bin_start": 0.352,
            "bin_end": 0.36129999999999995,
            "count": 2
           },
           {
            "bin_start": 0.36129999999999995,
            "bin_end": 0.3706,
            "count": 2
           },
           {
            "bin_start": 0.3706,
            "bin_end": 0.3799,
            "count": 1
           },
           {
            "bin_start": 0.3799,
            "bin_end": 0.3892,
            "count": 4
           },
           {
            "bin_start": 0.3892,
            "bin_end": 0.39849999999999997,
            "count": 3
           },
           {
            "bin_start": 0.39849999999999997,
            "bin_end": 0.4078,
            "count": 3
           },
           {
            "bin_start": 0.4078,
            "bin_end": 0.4171,
            "count": 3
           },
           {
            "bin_start": 0.4171,
            "bin_end": 0.4264,
            "count": 1
           },
           {
            "bin_start": 0.4264,
            "bin_end": 0.4357,
            "count": 0
           },
           {
            "bin_start": 0.4357,
            "bin_end": 0.445,
            "count": 1
           }
          ]
         }
        },
        {
         "name": "SLG",
         "dtype": "float64",
         "stats": {
          "unique_count": 20,
          "nan_count": 0,
          "min": "0.501",
          "max": "0.636",
          "histogram": [
           {
            "bin_start": 0.501,
            "bin_end": 0.5145,
            "count": 2
           },
           {
            "bin_start": 0.5145,
            "bin_end": 0.528,
            "count": 0
           },
           {
            "bin_start": 0.528,
            "bin_end": 0.5415,
            "count": 4
           },
           {
            "bin_start": 0.5415,
            "bin_end": 0.555,
            "count": 1
           },
           {
            "bin_start": 0.555,
            "bin_end": 0.5685,
            "count": 0
           },
           {
            "bin_start": 0.5685,
            "bin_end": 0.5820000000000001,
            "count": 2
           },
           {
            "bin_start": 0.5820000000000001,
            "bin_end": 0.5955,
            "count": 4
           },
           {
            "bin_start": 0.5955,
            "bin_end": 0.609,
            "count": 2
           },
           {
            "bin_start": 0.609,
            "bin_end": 0.6225,
            "count": 4
           },
           {
            "bin_start": 0.6225,
            "bin_end": 0.636,
            "count": 1
           }
          ]
         }
        },
        {
         "name": "OPS",
         "dtype": "float64",
         "stats": {
          "unique_count": 19,
          "nan_count": 0,
          "min": "0.866",
          "max": "1.066",
          "histogram": [
           {
            "bin_start": 0.866,
            "bin_end": 0.886,
            "count": 3
           },
           {
            "bin_start": 0.886,
            "bin_end": 0.906,
            "count": 1
           },
           {
            "bin_start": 0.906,
            "bin_end": 0.926,
            "count": 1
           },
           {
            "bin_start": 0.926,
            "bin_end": 0.9460000000000001,
            "count": 2
           },
           {
            "bin_start": 0.9460000000000001,
            "bin_end": 0.966,
            "count": 3
           },
           {
            "bin_start": 0.966,
            "bin_end": 0.986,
            "count": 2
           },
           {
            "bin_start": 0.986,
            "bin_end": 1.006,
            "count": 3
           },
           {
            "bin_start": 1.006,
            "bin_end": 1.026,
            "count": 3
           },
           {
            "bin_start": 1.026,
            "bin_end": 1.046,
            "count": 0
           },
           {
            "bin_start": 1.046,
            "bin_end": 1.066,
            "count": 2
           }
          ]
         }
        },
        {
         "name": "OPS+",
         "dtype": "float64",
         "stats": {
          "unique_count": 18,
          "nan_count": 0,
          "min": "124.0",
          "max": "171.0",
          "histogram": [
           {
            "bin_start": 124,
            "bin_end": 128.7,
            "count": 3
           },
           {
            "bin_start": 128.7,
            "bin_end": 133.4,
            "count": 1
           },
           {
            "bin_start": 133.4,
            "bin_end": 138.1,
            "count": 1
           },
           {
            "bin_start": 138.1,
            "bin_end": 142.8,
            "count": 1
           },
           {
            "bin_start": 142.8,
            "bin_end": 147.5,
            "count": 3
           },
           {
            "bin_start": 147.5,
            "bin_end": 152.2,
            "count": 2
           },
           {
            "bin_start": 152.2,
            "bin_end": 156.9,
            "count": 3
           },
           {
            "bin_start": 156.9,
            "bin_end": 161.6,
            "count": 3
           },
           {
            "bin_start": 161.6,
            "bin_end": 166.3,
            "count": 2
           },
           {
            "bin_start": 166.3,
            "bin_end": 171,
            "count": 1
           }
          ]
         }
        },
        {
         "name": "TB",
         "dtype": "int64",
         "stats": {
          "unique_count": 20,
          "nan_count": 0,
          "min": "277",
          "max": "370",
          "histogram": [
           {
            "bin_start": 277,
            "bin_end": 286.3,
            "count": 2
           },
           {
            "bin_start": 286.3,
            "bin_end": 295.6,
            "count": 1
           },
           {
            "bin_start": 295.6,
            "bin_end": 304.9,
            "count": 0
           },
           {
            "bin_start": 304.9,
            "bin_end": 314.2,
            "count": 2
           },
           {
            "bin_start": 314.2,
            "bin_end": 323.5,
            "count": 2
           },
           {
            "bin_start": 323.5,
            "bin_end": 332.8,
            "count": 1
           },
           {
            "bin_start": 332.8,
            "bin_end": 342.1,
            "count": 3
           },
           {
            "bin_start": 342.1,
            "bin_end": 351.4,
            "count": 3
           },
           {
            "bin_start": 351.4,
            "bin_end": 360.7,
            "count": 4
           },
           {
            "bin_start": 360.7,
            "bin_end": 370,
            "count": 2
           }
          ]
         }
        },
        {
         "name": "GDP",
         "dtype": "int64",
         "stats": {
          "unique_count": 10,
          "nan_count": 0,
          "min": "9",
          "max": "28",
          "histogram": [
           {
            "bin_start": 9,
            "bin_end": 10.9,
            "count": 2
           },
           {
            "bin_start": 10.9,
            "bin_end": 12.8,
            "count": 5
           },
           {
            "bin_start": 12.8,
            "bin_end": 14.7,
            "count": 2
           },
           {
            "bin_start": 14.7,
            "bin_end": 16.6,
            "count": 1
           },
           {
            "bin_start": 16.6,
            "bin_end": 18.5,
            "count": 5
           },
           {
            "bin_start": 18.5,
            "bin_end": 20.4,
            "count": 3
           },
           {
            "bin_start": 20.4,
            "bin_end": 22.299999999999997,
            "count": 1
           },
           {
            "bin_start": 22.299999999999997,
            "bin_end": 24.2,
            "count": 0
           },
           {
            "bin_start": 24.2,
            "bin_end": 26.099999999999998,
            "count": 0
           },
           {
            "bin_start": 26.099999999999998,
            "bin_end": 28,
            "count": 1
           }
          ]
         }
        },
        {
         "name": "HBP",
         "dtype": "int64",
         "stats": {
          "unique_count": 11,
          "nan_count": 0,
          "min": "1",
          "max": "14",
          "histogram": [
           {
            "bin_start": 1,
            "bin_end": 2.3,
            "count": 3
           },
           {
            "bin_start": 2.3,
            "bin_end": 3.6,
            "count": 1
           },
           {
            "bin_start": 3.6,
            "bin_end": 4.9,
            "count": 3
           },
           {
            "bin_start": 4.9,
            "bin_end": 6.2,
            "count": 3
           },
           {
            "bin_start": 6.2,
            "bin_end": 7.5,
            "count": 1
           },
           {
            "bin_start": 7.5,
            "bin_end": 8.8,
            "count": 3
           },
           {
            "bin_start": 8.8,
            "bin_end": 10.1,
            "count": 3
           },
           {
            "bin_start": 10.1,
            "bin_end": 11.4,
            "count": 0
           },
           {
            "bin_start": 11.4,
            "bin_end": 12.700000000000001,
            "count": 1
           },
           {
            "bin_start": 12.700000000000001,
            "bin_end": 14,
            "count": 2
           }
          ]
         }
        },
        {
         "name": "SH",
         "dtype": "int64",
         "stats": {
          "unique_count": 1,
          "nan_count": 0,
          "min": "0",
          "max": "0",
          "histogram": [
           {
            "bin_start": -0.5,
            "bin_end": -0.4,
            "count": 0
           },
           {
            "bin_start": -0.4,
            "bin_end": -0.3,
            "count": 0
           },
           {
            "bin_start": -0.3,
            "bin_end": -0.19999999999999996,
            "count": 0
           },
           {
            "bin_start": -0.19999999999999996,
            "bin_end": -0.09999999999999998,
            "count": 0
           },
           {
            "bin_start": -0.09999999999999998,
            "bin_end": 0,
            "count": 0
           },
           {
            "bin_start": 0,
            "bin_end": 0.10000000000000009,
            "count": 20
           },
           {
            "bin_start": 0.10000000000000009,
            "bin_end": 0.20000000000000007,
            "count": 0
           },
           {
            "bin_start": 0.20000000000000007,
            "bin_end": 0.30000000000000004,
            "count": 0
           },
           {
            "bin_start": 0.30000000000000004,
            "bin_end": 0.4,
            "count": 0
           },
           {
            "bin_start": 0.4,
            "bin_end": 0.5,
            "count": 0
           }
          ]
         }
        },
        {
         "name": "SF",
         "dtype": "int64",
         "stats": {
          "unique_count": 9,
          "nan_count": 0,
          "min": "2",
          "max": "11",
          "histogram": [
           {
            "bin_start": 2,
            "bin_end": 2.9,
            "count": 1
           },
           {
            "bin_start": 2.9,
            "bin_end": 3.8,
            "count": 2
           },
           {
            "bin_start": 3.8,
            "bin_end": 4.7,
            "count": 3
           },
           {
            "bin_start": 4.7,
            "bin_end": 5.6,
            "count": 2
           },
           {
            "bin_start": 5.6,
            "bin_end": 6.5,
            "count": 1
           },
           {
            "bin_start": 6.5,
            "bin_end": 7.4,
            "count": 5
           },
           {
            "bin_start": 7.4,
            "bin_end": 8.3,
            "count": 3
           },
           {
            "bin_start": 8.3,
            "bin_end": 9.2,
            "count": 2
           },
           {
            "bin_start": 9.2,
            "bin_end": 10.1,
            "count": 0
           },
           {
            "bin_start": 10.1,
            "bin_end": 11,
            "count": 1
           }
          ]
         }
        },
        {
         "name": "IBB",
         "dtype": "int64",
         "stats": {
          "unique_count": 15,
          "nan_count": 0,
          "min": "1",
          "max": "25",
          "histogram": [
           {
            "bin_start": 1,
            "bin_end": 3.4,
            "count": 2
           },
           {
            "bin_start": 3.4,
            "bin_end": 5.8,
            "count": 4
           },
           {
            "bin_start": 5.8,
            "bin_end": 8.2,
            "count": 2
           },
           {
            "bin_start": 8.2,
            "bin_end": 10.6,
            "count": 2
           },
           {
            "bin_start": 10.6,
            "bin_end": 13,
            "count": 1
           },
           {
            "bin_start": 13,
            "bin_end": 15.399999999999999,
            "count": 3
           },
           {
            "bin_start": 15.399999999999999,
            "bin_end": 17.8,
            "count": 1
           },
           {
            "bin_start": 17.8,
            "bin_end": 20.2,
            "count": 3
           },
           {
            "bin_start": 20.2,
            "bin_end": 22.599999999999998,
            "count": 0
           },
           {
            "bin_start": 22.599999999999998,
            "bin_end": 25,
            "count": 2
           }
          ]
         }
        },
        {
         "name": "Pos Summary",
         "dtype": "object",
         "stats": {
          "unique_count": 13,
          "nan_count": 0,
          "categories": [
           {
            "name": "*D3",
            "count": 3
           },
           {
            "name": "*3D",
            "count": 3
           },
           {
            "name": "11 others",
            "count": 14
           }
          ]
         }
        },
        {
         "name": "Year",
         "dtype": "int64",
         "stats": {
          "unique_count": 14,
          "nan_count": 0,
          "min": "1988",
          "max": "2016",
          "histogram": [
           {
            "bin_start": 1988,
            "bin_end": 1990.8,
            "count": 1
           },
           {
            "bin_start": 1990.8,
            "bin_end": 1993.6,
            "count": 0
           },
           {
            "bin_start": 1993.6,
            "bin_end": 1996.4,
            "count": 2
           },
           {
            "bin_start": 1996.4,
            "bin_end": 1999.2,
            "count": 2
           },
           {
            "bin_start": 1999.2,
            "bin_end": 2002,
            "count": 1
           },
           {
            "bin_start": 2002,
            "bin_end": 2004.8,
            "count": 3
           },
           {
            "bin_start": 2004.8,
            "bin_end": 2007.6,
            "count": 5
           },
           {
            "bin_start": 2007.6,
            "bin_end": 2010.4,
            "count": 2
           },
           {
            "bin_start": 2010.4,
            "bin_end": 2013.2,
            "count": 1
           },
           {
            "bin_start": 2013.2,
            "bin_end": 2016,
            "count": 3
           }
          ]
         }
        },
        {
         "name": "_deepnote_index_column",
         "dtype": "int64"
        }
       ],
       "rows": [
        {
         "Rk": 864,
         "Name": "David Ortiz*",
         "Age": 29,
         "Tm": "BOS",
         "Lg": "AL",
         "G": 159,
         "PA": 713,
         "AB": 601,
         "R": 119,
         "H": 180,
         "2B": 40,
         "3B": 1,
         "HR": 47,
         "RBI": 148,
         "SB": 1,
         "CS": 0,
         "BB": 102,
         "SO": 124,
         "BA": 0.3,
         "OBP": 0.397,
         "SLG": 0.604,
         "OPS": 1.001,
         "OPS+": 158,
         "TB": 363,
         "GDP": 13,
         "HBP": 1,
         "SH": 0,
         "SF": 9,
         "IBB": 9,
         "Pos Summary": "*D3",
         "Year": 2005,
         "_deepnote_index_column": 19975
        },
        {
         "Rk": 961,
         "Name": "Manny Ramirez",
         "Age": 33,
         "Tm": "BOS",
         "Lg": "AL",
         "G": 152,
         "PA": 650,
         "AB": 554,
         "R": 112,
         "H": 162,
         "2B": 30,
         "3B": 1,
         "HR": 45,
         "RBI": 144,
         "SB": 1,
         "CS": 0,
         "BB": 80,
         "SO": 119,
         "BA": 0.292,
         "OBP": 0.388,
         "SLG": 0.594,
         "OPS": 0.982,
         "OPS+": 153,
         "TB": 329,
         "GDP": 20,
         "HBP": 10,
         "SH": 0,
         "SF": 6,
         "IBB": 9,
         "Pos Summary": "*7/D",
         "Year": 2005,
         "_deepnote_index_column": 20072
        },
        {
         "Rk": 992,
         "Name": "Mo Vaughn*",
         "Age": 28,
         "Tm": "BOS",
         "Lg": "AL",
         "G": 161,
         "PA": 752,
         "AB": 635,
         "R": 118,
         "H": 207,
         "2B": 29,
         "3B": 1,
         "HR": 44,
         "RBI": 143,
         "SB": 2,
         "CS": 0,
         "BB": 95,
         "SO": 154,
         "BA": 0.326,
         "OBP": 0.42,
         "SLG": 0.583,
         "OPS": 1.003,
         "OPS+": 150,
         "TB": 370,
         "GDP": 17,
         "HBP": 14,
         "SH": 0,
         "SF": 8,
         "IBB": 19,
         "Pos Summary": "*3D",
         "Year": 1996,
         "_deepnote_index_column": 8485
        },
        {
         "Rk": 907,
         "Name": "David Ortiz*",
         "Age": 28,
         "Tm": "BOS",
         "Lg": "AL",
         "G": 150,
         "PA": 669,
         "AB": 582,
         "R": 94,
         "H": 175,
         "2B": 47,
         "3B": 3,
         "HR": 41,
         "RBI": 139,
         "SB": 0,
         "CS": 0,
         "BB": 75,
         "SO": 133,
         "BA": 0.301,
         "OBP": 0.38,
         "SLG": 0.603,
         "OPS": 0.983,
         "OPS+": 145,
         "TB": 351,
         "GDP": 12,
         "HBP": 4,
         "SH": 0,
         "SF": 8,
         "IBB": 8,
         "Pos Summary": "*D3",
         "Year": 2004,
         "_deepnote_index_column": 18709
        },
        {
         "Rk": 914,
         "Name": "David Ortiz*",
         "Age": 30,
         "Tm": "BOS",
         "Lg": "AL",
         "G": 151,
         "PA": 686,
         "AB": 558,
         "R": 115,
         "H": 160,
         "2B": 29,
         "3B": 2,
         "HR": 54,
         "RBI": 137,
         "SB": 1,
         "CS": 0,
         "BB": 119,
         "SO": 117,
         "BA": 0.287,
         "OBP": 0.413,
         "SLG": 0.636,
         "OPS": 1.049,
         "OPS+": 161,
         "TB": 355,
         "GDP": 12,
         "HBP": 4,
         "SH": 0,
         "SF": 5,
         "IBB": 23,
         "Pos Summary": "*D3",
         "Year": 2006,
         "_deepnote_index_column": 21331
        },
        {
         "Rk": 997,
         "Name": "Manny Ramirez",
         "Age": 32,
         "Tm": "BOS",
         "Lg": "AL",
         "G": 152,
         "PA": 663,
         "AB": 568,
         "R": 108,
         "H": 175,
         "2B": 44,
         "3B": 0,
         "HR": 43,
         "RBI": 130,
         "SB": 2,
         "CS": 4,
         "BB": 82,
         "SO": 124,
         "BA": 0.308,
         "OBP": 0.397,
         "SLG": 0.613,
         "OPS": 1.009,
         "OPS+": 152,
         "TB": 348,
         "GDP": 17,
         "HBP": 6,
         "SH": 0,
         "SF": 7,
         "IBB": 15,
         "Pos Summary": "*7D",
         "Year": 2004,
         "_deepnote_index_column": 18799
        },
        {
         "Rk": 974,
         "Name": "David Ortiz*",
         "Age": 40,
         "Tm": "BOS",
         "Lg": "AL",
         "G": 151,
         "PA": 626,
         "AB": 537,
         "R": 79,
         "H": 169,
         "2B": 48,
         "3B": 1,
         "HR": 38,
         "RBI": 127,
         "SB": 2,
         "CS": 0,
         "BB": 80,
         "SO": 86,
         "BA": 0.315,
         "OBP": 0.401,
         "SLG": 0.62,
         "OPS": 1.021,
         "OPS+": 164,
         "TB": 333,
         "GDP": 22,
         "HBP": 2,
         "SH": 0,
         "SF": 7,
         "IBB": 15,
         "Pos Summary": "*D/3",
         "Year": 2016,
         "_deepnote_index_column": 35212
        },
        {
         "Rk": 994,
         "Name": "Mo Vaughn*",
         "Age": 27,
         "Tm": "BOS",
         "Lg": "AL",
         "G": 140,
         "PA": 636,
         "AB": 550,
         "R": 98,
         "H": 165,
         "2B": 28,
         "3B": 3,
         "HR": 39,
         "RBI": 126,
         "SB": 11,
         "CS": 4,
         "BB": 68,
         "SO": 150,
         "BA": 0.3,
         "OBP": 0.388,
         "SLG": 0.575,
         "OPS": 0.963,
         "OPS+": 144,
         "TB": 316,
         "GDP": 17,
         "HBP": 14,
         "SH": 0,
         "SF": 4,
         "IBB": 17,
         "Pos Summary": "*3/D",
         "Year": 1995,
         "_deepnote_index_column": 7406
        },
        {
         "Rk": 991,
         "Name": "Manny Ramirez",
         "Age": 29,
         "Tm": "BOS",
         "Lg": "AL",
         "G": 142,
         "PA": 620,
         "AB": 529,
         "R": 93,
         "H": 162,
         "2B": 33,
         "3B": 2,
         "HR": 41,
         "RBI": 125,
         "SB": 0,
         "CS": 1,
         "BB": 81,
         "SO": 147,
         "BA": 0.306,
         "OBP": 0.405,
         "SLG": 0.609,
         "OPS": 1.014,
         "OPS+": 162,
         "TB": 322,
         "GDP": 9,
         "HBP": 8,
         "SH": 0,
         "SF": 2,
         "IBB": 25,
         "Pos Summary": "D7",
         "Year": 2001,
         "_deepnote_index_column": 14828
        },
        {
         "Rk": 389,
         "Name": "Nomar Garciaparra",
         "Age": 24,
         "Tm": "BOS",
         "Lg": "AL",
         "G": 143,
         "PA": 652,
         "AB": 604,
         "R": 111,
         "H": 195,
         "2B": 37,
         "3B": 8,
         "HR": 35,
         "RBI": 122,
         "SB": 12,
         "CS": 6,
         "BB": 33,
         "SO": 62,
         "BA": 0.323,
         "OBP": 0.362,
         "SLG": 0.584,
         "OPS": 0.946,
         "OPS+": 140,
         "TB": 353,
         "GDP": 20,
         "HBP": 8,
         "SH": 0,
         "SF": 7,
         "IBB": 1,
         "Pos Summary": "*6",
         "Year": 1998,
         "_deepnote_index_column": 10209
        }
       ]
      },
      "text/plain": "           Rk               Name   Age   Tm  Lg    G   PA   AB    R    H  ...  \\\n19975   864.0       David Ortiz*  29.0  BOS  AL  159  713  601  119  180  ...   \n20072   961.0      Manny Ramirez  33.0  BOS  AL  152  650  554  112  162  ...   \n8485    992.0         Mo Vaughn*  28.0  BOS  AL  161  752  635  118  207  ...   \n18709   907.0       David Ortiz*  28.0  BOS  AL  150  669  582   94  175  ...   \n21331   914.0       David Ortiz*  30.0  BOS  AL  151  686  558  115  160  ...   \n18799   997.0      Manny Ramirez  32.0  BOS  AL  152  663  568  108  175  ...   \n35212   974.0       David Ortiz*  40.0  BOS  AL  151  626  537   79  169  ...   \n7406    994.0         Mo Vaughn*  27.0  BOS  AL  140  636  550   98  165  ...   \n14828   991.0      Manny Ramirez  29.0  BOS  AL  142  620  529   93  162  ...   \n10209   389.0  Nomar Garciaparra  24.0  BOS  AL  143  652  604  111  195  ...   \n22529   739.0        Mike Lowell  33.0  BOS  AL  154  653  589   79  191  ...   \n15588   397.0  Nomar Garciaparra  28.0  BOS  AL  156  693  635  101  197  ...   \n24587    90.0          Jason Bay  30.0  BOS  AL  151  638  531  103  142  ...   \n293     294.0    Mike Greenwell*  24.0  BOS  AL  158  693  590   86  192  ...   \n27663   451.0   Adrian Gonzalez*  29.0  BOS  AL  159  715  630  108  213  ...   \n22708   918.0       David Ortiz*  31.0  BOS  AL  149  667  549  116  182  ...   \n11055  1235.0         Mo Vaughn*  30.0  BOS  AL  154  681  609  107  205  ...   \n24483  1335.0     Kevin Youkilis  29.0  BOS  AL  145  621  538   91  168  ...   \n34344   106.0       Mookie Betts  23.0  BOS  AL  158  730  672  122  214  ...   \n35314  1076.0     Hanley Ramirez  32.0  BOS  AL  147  620  549   81  157  ...   \n\n         OPS   OPS+   TB  GDP  HBP  SH  SF  IBB  Pos Summary  Year  \n19975  1.001  158.0  363   13    1   0   9    9          *D3  2005  \n20072  0.982  153.0  329   20   10   0   6    9         *7/D  2005  \n8485   1.003  150.0  370   17   14   0   8   19          *3D  1996  \n18709  0.983  145.0  351   12    4   0   8    8          *D3  2004  \n21331  1.049  161.0  355   12    4   0   5   23          *D3  2006  \n18799  1.009  152.0  348   17    6   0   7   15          *7D  2004  \n35212  1.021  164.0  333   22    2   0   7   15         *D/3  2016  \n7406   0.963  144.0  316   17   14   0   4   17         *3/D  1995  \n14828  1.014  162.0  322    9    8   0   2   25           D7  2001  \n10209  0.946  140.0  353   20    8   0   7    1           *6  1998  \n22529  0.879  124.0  295   19    3   0   8    4           *5  2007  \n15588  0.880  127.0  335   17    6   0  11    4           *6  2002  \n24587  0.921  134.0  285    9    9   0   4    4         *7/D  2009  \n293    0.946  160.0  313   11    9   0   7   18        *7D/9  1988  \n27663  0.957  155.0  345   28    6   0   5   20        *3/D9  2011  \n22708  1.066  171.0  341   16    4   0   3   12         *D/3  2007  \n11055  0.993  153.0  360   13    8   0   3   13          *3D  1998  \n24483  0.958  144.0  306   11   12   0   9    7        *35/9  2008  \n34344  0.897  133.0  359   12    2   0   7    1           *9  2016  \n35314  0.866  126.0  277   17    7   0   4    5          *3D  2016  \n\n[20 rows x 31 columns]",
      "text/html": "<div>\n<style scoped>\n    .dataframe tbody tr th:only-of-type {\n        vertical-align: middle;\n    }\n\n    .dataframe tbody tr th {\n        vertical-align: top;\n    }\n\n    .dataframe thead th {\n        text-align: right;\n    }\n</style>\n<table border=\"1\" class=\"dataframe\">\n  <thead>\n    <tr style=\"text-align: right;\">\n      <th></th>\n      <th>Rk</th>\n      <th>Name</th>\n      <th>Age</th>\n      <th>Tm</th>\n      <th>Lg</th>\n      <th>G</th>\n      <th>PA</th>\n      <th>AB</th>\n      <th>R</th>\n      <th>H</th>\n      <th>...</th>\n      <th>OPS</th>\n      <th>OPS+</th>\n      <th>TB</th>\n      <th>GDP</th>\n      <th>HBP</th>\n      <th>SH</th>\n      <th>SF</th>\n      <th>IBB</th>\n      <th>Pos Summary</th>\n      <th>Year</th>\n    </tr>\n  </thead>\n  <tbody>\n    <tr>\n      <th>19975</th>\n      <td>864.0</td>\n      <td>David Ortiz*</td>\n      <td>29.0</td>\n      <td>BOS</td>\n      <td>AL</td>\n      <td>159</td>\n      <td>713</td>\n      <td>601</td>\n      <td>119</td>\n      <td>180</td>\n      <td>...</td>\n      <td>1.001</td>\n      <td>158.0</td>\n      <td>363</td>\n      <td>13</td>\n      <td>1</td>\n      <td>0</td>\n      <td>9</td>\n      <td>9</td>\n      <td>*D3</td>\n      <td>2005</td>\n    </tr>\n    <tr>\n      <th>20072</th>\n      <td>961.0</td>\n      <td>Manny Ramirez</td>\n      <td>33.0</td>\n      <td>BOS</td>\n      <td>AL</td>\n      <td>152</td>\n      <td>650</td>\n      <td>554</td>\n      <td>112</td>\n      <td>162</td>\n      <td>...</td>\n      <td>0.982</td>\n      <td>153.0</td>\n      <td>329</td>\n      <td>20</td>\n      <td>10</td>\n      <td>0</td>\n      <td>6</td>\n      <td>9</td>\n      <td>*7/D</td>\n      <td>2005</td>\n    </tr>\n    <tr>\n      <th>8485</th>\n      <td>992.0</td>\n      <td>Mo Vaughn*</td>\n      <td>28.0</td>\n      <td>BOS</td>\n      <td>AL</td>\n      <td>161</td>\n      <td>752</td>\n      <td>635</td>\n      <td>118</td>\n      <td>207</td>\n      <td>...</td>\n      <td>1.003</td>\n      <td>150.0</td>\n      <td>370</td>\n      <td>17</td>\n      <td>14</td>\n      <td>0</td>\n      <td>8</td>\n      <td>19</td>\n      <td>*3D</td>\n      <td>1996</td>\n    </tr>\n    <tr>\n      <th>18709</th>\n      <td>907.0</td>\n      <td>David Ortiz*</td>\n      <td>28.0</td>\n      <td>BOS</td>\n      <td>AL</td>\n      <td>150</td>\n      <td>669</td>\n      <td>582</td>\n      <td>94</td>\n      <td>175</td>\n      <td>...</td>\n      <td>0.983</td>\n      <td>145.0</td>\n      <td>351</td>\n      <td>12</td>\n      <td>4</td>\n      <td>0</td>\n      <td>8</td>\n      <td>8</td>\n      <td>*D3</td>\n      <td>2004</td>\n    </tr>\n    <tr>\n      <th>21331</th>\n      <td>914.0</td>\n      <td>David Ortiz*</td>\n      <td>30.0</td>\n      <td>BOS</td>\n      <td>AL</td>\n      <td>151</td>\n      <td>686</td>\n      <td>558</td>\n      <td>115</td>\n      <td>160</td>\n      <td>...</td>\n      <td>1.049</td>\n      <td>161.0</td>\n      <td>355</td>\n      <td>12</td>\n      <td>4</td>\n      <td>0</td>\n      <td>5</td>\n      <td>23</td>\n      <td>*D3</td>\n      <td>2006</td>\n    </tr>\n    <tr>\n      <th>18799</th>\n      <td>997.0</td>\n      <td>Manny Ramirez</td>\n      <td>32.0</td>\n      <td>BOS</td>\n      <td>AL</td>\n      <td>152</td>\n      <td>663</td>\n      <td>568</td>\n      <td>108</td>\n      <td>175</td>\n      <td>...</td>\n      <td>1.009</td>\n      <td>152.0</td>\n      <td>348</td>\n      <td>17</td>\n      <td>6</td>\n      <td>0</td>\n      <td>7</td>\n      <td>15</td>\n      <td>*7D</td>\n      <td>2004</td>\n    </tr>\n    <tr>\n      <th>35212</th>\n      <td>974.0</td>\n      <td>David Ortiz*</td>\n      <td>40.0</td>\n      <td>BOS</td>\n      <td>AL</td>\n      <td>151</td>\n      <td>626</td>\n      <td>537</td>\n      <td>79</td>\n      <td>169</td>\n      <td>...</td>\n      <td>1.021</td>\n      <td>164.0</td>\n      <td>333</td>\n      <td>22</td>\n      <td>2</td>\n      <td>0</td>\n      <td>7</td>\n      <td>15</td>\n      <td>*D/3</td>\n      <td>2016</td>\n    </tr>\n    <tr>\n      <th>7406</th>\n      <td>994.0</td>\n      <td>Mo Vaughn*</td>\n      <td>27.0</td>\n      <td>BOS</td>\n      <td>AL</td>\n      <td>140</td>\n      <td>636</td>\n      <td>550</td>\n      <td>98</td>\n      <td>165</td>\n      <td>...</td>\n      <td>0.963</td>\n      <td>144.0</td>\n      <td>316</td>\n      <td>17</td>\n      <td>14</td>\n      <td>0</td>\n      <td>4</td>\n      <td>17</td>\n      <td>*3/D</td>\n      <td>1995</td>\n    </tr>\n    <tr>\n      <th>14828</th>\n      <td>991.0</td>\n      <td>Manny Ramirez</td>\n      <td>29.0</td>\n      <td>BOS</td>\n      <td>AL</td>\n      <td>142</td>\n      <td>620</td>\n      <td>529</td>\n      <td>93</td>\n      <td>162</td>\n      <td>...</td>\n      <td>1.014</td>\n      <td>162.0</td>\n      <td>322</td>\n      <td>9</td>\n      <td>8</td>\n      <td>0</td>\n      <td>2</td>\n      <td>25</td>\n      <td>D7</td>\n      <td>2001</td>\n    </tr>\n    <tr>\n      <th>10209</th>\n      <td>389.0</td>\n      <td>Nomar Garciaparra</td>\n      <td>24.0</td>\n      <td>BOS</td>\n      <td>AL</td>\n      <td>143</td>\n      <td>652</td>\n      <td>604</td>\n      <td>111</td>\n      <td>195</td>\n      <td>...</td>\n      <td>0.946</td>\n      <td>140.0</td>\n      <td>353</td>\n      <td>20</td>\n      <td>8</td>\n      <td>0</td>\n      <td>7</td>\n      <td>1</td>\n      <td>*6</td>\n      <td>1998</td>\n    </tr>\n    <tr>\n      <th>22529</th>\n      <td>739.0</td>\n      <td>Mike Lowell</td>\n      <td>33.0</td>\n      <td>BOS</td>\n      <td>AL</td>\n      <td>154</td>\n      <td>653</td>\n      <td>589</td>\n      <td>79</td>\n      <td>191</td>\n      <td>...</td>\n      <td>0.879</td>\n      <td>124.0</td>\n      <td>295</td>\n      <td>19</td>\n      <td>3</td>\n      <td>0</td>\n      <td>8</td>\n      <td>4</td>\n      <td>*5</td>\n      <td>2007</td>\n    </tr>\n    <tr>\n      <th>15588</th>\n      <td>397.0</td>\n      <td>Nomar Garciaparra</td>\n      <td>28.0</td>\n      <td>BOS</td>\n      <td>AL</td>\n      <td>156</td>\n      <td>693</td>\n      <td>635</td>\n      <td>101</td>\n      <td>197</td>\n      <td>...</td>\n      <td>0.880</td>\n      <td>127.0</td>\n      <td>335</td>\n      <td>17</td>\n      <td>6</td>\n      <td>0</td>\n      <td>11</td>\n      <td>4</td>\n      <td>*6</td>\n      <td>2002</td>\n    </tr>\n    <tr>\n      <th>24587</th>\n      <td>90.0</td>\n      <td>Jason Bay</td>\n      <td>30.0</td>\n      <td>BOS</td>\n      <td>AL</td>\n      <td>151</td>\n      <td>638</td>\n      <td>531</td>\n      <td>103</td>\n      <td>142</td>\n      <td>...</td>\n      <td>0.921</td>\n      <td>134.0</td>\n      <td>285</td>\n      <td>9</td>\n      <td>9</td>\n      <td>0</td>\n      <td>4</td>\n      <td>4</td>\n      <td>*7/D</td>\n      <td>2009</td>\n    </tr>\n    <tr>\n      <th>293</th>\n      <td>294.0</td>\n      <td>Mike Greenwell*</td>\n      <td>24.0</td>\n      <td>BOS</td>\n      <td>AL</td>\n      <td>158</td>\n      <td>693</td>\n      <td>590</td>\n      <td>86</td>\n      <td>192</td>\n      <td>...</td>\n      <td>0.946</td>\n      <td>160.0</td>\n      <td>313</td>\n      <td>11</td>\n      <td>9</td>\n      <td>0</td>\n      <td>7</td>\n      <td>18</td>\n      <td>*7D/9</td>\n      <td>1988</td>\n    </tr>\n    <tr>\n      <th>27663</th>\n      <td>451.0</td>\n      <td>Adrian Gonzalez*</td>\n      <td>29.0</td>\n      <td>BOS</td>\n      <td>AL</td>\n      <td>159</td>\n      <td>715</td>\n      <td>630</td>\n      <td>108</td>\n      <td>213</td>\n      <td>...</td>\n      <td>0.957</td>\n      <td>155.0</td>\n      <td>345</td>\n      <td>28</td>\n      <td>6</td>\n      <td>0</td>\n      <td>5</td>\n      <td>20</td>\n      <td>*3/D9</td>\n      <td>2011</td>\n    </tr>\n    <tr>\n      <th>22708</th>\n      <td>918.0</td>\n      <td>David Ortiz*</td>\n      <td>31.0</td>\n      <td>BOS</td>\n      <td>AL</td>\n      <td>149</td>\n      <td>667</td>\n      <td>549</td>\n      <td>116</td>\n      <td>182</td>\n      <td>...</td>\n      <td>1.066</td>\n      <td>171.0</td>\n      <td>341</td>\n      <td>16</td>\n      <td>4</td>\n      <td>0</td>\n      <td>3</td>\n      <td>12</td>\n      <td>*D/3</td>\n      <td>2007</td>\n    </tr>\n    <tr>\n      <th>11055</th>\n      <td>1235.0</td>\n      <td>Mo Vaughn*</td>\n      <td>30.0</td>\n      <td>BOS</td>\n      <td>AL</td>\n      <td>154</td>\n      <td>681</td>\n      <td>609</td>\n      <td>107</td>\n      <td>205</td>\n      <td>...</td>\n      <td>0.993</td>\n      <td>153.0</td>\n      <td>360</td>\n      <td>13</td>\n      <td>8</td>\n      <td>0</td>\n      <td>3</td>\n      <td>13</td>\n      <td>*3D</td>\n      <td>1998</td>\n    </tr>\n    <tr>\n      <th>24483</th>\n      <td>1335.0</td>\n      <td>Kevin Youkilis</td>\n      <td>29.0</td>\n      <td>BOS</td>\n      <td>AL</td>\n      <td>145</td>\n      <td>621</td>\n      <td>538</td>\n      <td>91</td>\n      <td>168</td>\n      <td>...</td>\n      <td>0.958</td>\n      <td>144.0</td>\n      <td>306</td>\n      <td>11</td>\n      <td>12</td>\n      <td>0</td>\n      <td>9</td>\n      <td>7</td>\n      <td>*35/9</td>\n      <td>2008</td>\n    </tr>\n    <tr>\n      <th>34344</th>\n      <td>106.0</td>\n      <td>Mookie Betts</td>\n      <td>23.0</td>\n      <td>BOS</td>\n      <td>AL</td>\n      <td>158</td>\n      <td>730</td>\n      <td>672</td>\n      <td>122</td>\n      <td>214</td>\n      <td>...</td>\n      <td>0.897</td>\n      <td>133.0</td>\n      <td>359</td>\n      <td>12</td>\n      <td>2</td>\n      <td>0</td>\n      <td>7</td>\n      <td>1</td>\n      <td>*9</td>\n      <td>2016</td>\n    </tr>\n    <tr>\n      <th>35314</th>\n      <td>1076.0</td>\n      <td>Hanley Ramirez</td>\n      <td>32.0</td>\n      <td>BOS</td>\n      <td>AL</td>\n      <td>147</td>\n      <td>620</td>\n      <td>549</td>\n      <td>81</td>\n      <td>157</td>\n      <td>...</td>\n      <td>0.866</td>\n      <td>126.0</td>\n      <td>277</td>\n      <td>17</td>\n      <td>7</td>\n      <td>0</td>\n      <td>4</td>\n      <td>5</td>\n      <td>*3D</td>\n      <td>2016</td>\n    </tr>\n  </tbody>\n</table>\n<p>20 rows × 31 columns</p>\n</div>"
     },
     "metadata": {}
    }
   ],
   "execution_count": null
  },
  {
   "cell_type": "code",
   "source": "import matplotlib.pyplot as plt\n\nplt.hist(baseball_filtered[batstat], color=\"red\")\nplt.ylabel(\"Frequency\")\nplt.xlabel(\"Number of \" + batstat)\nplt.title(\"Histogram for \" + batstat)",
   "metadata": {
    "cell_id": "5c43ae8794514b18b35380898b467d61",
    "tags": [],
    "deepnote_to_be_reexecuted": false,
    "source_hash": "d341862e",
    "execution_start": 1648655758001,
    "execution_millis": 758,
    "deepnote_cell_type": "code",
    "deepnote_cell_height": 519.1875,
    "deepnote_output_heights": [
     21.1875,
     280
    ]
   },
   "outputs": [
    {
     "output_type": "execute_result",
     "execution_count": 11,
     "data": {
      "text/plain": "Text(0.5, 1.0, 'Histogram for RBI')"
     },
     "metadata": {}
    },
    {
     "data": {
      "text/plain": "<Figure size 432x288 with 1 Axes>",
      "image/png": "[encoded data removed]"
     },
     "metadata": {
      "needs_background": "light",
      "image/png": {
       "width": 389,
       "height": 278
      }
     },
     "output_type": "display_data"
    }
   ],
   "execution_count": null
  },
  {
   "cell_type": "markdown",
   "source": "<a style='text-decoration:none;line-height:16px;display:flex;color:#5B5B62;padding:10px;justify-content:end;' href='https://deepnote.com?utm_source=created-in-deepnote-cell&projectId=a1cc5b2e-dc84-4930-b2bb-7f04ae78f6aa' target=\"_blank\">\n<img alt='Created in deepnote.com' style='display:inline;max-height:16px;margin:0px;margin-right:7.5px;' src='data:image/svg+xml;base64,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' > </img>\nCreated in <span style='font-weight:600;margin-left:4px;'>Deepnote</span></a>",
   "metadata": {
    "tags": [],
    "created_in_deepnote_cell": true,
    "deepnote_cell_type": "markdown"
   }
  }
 ],
 "nbformat": 4,
 "nbformat_minor": 2,
 "metadata": {
  "orig_nbformat": 2,
  "deepnote": {
   "is_reactive": false
  },
  "deepnote_notebook_id": "1931f491-73e3-4ad6-9a57-9e0190c5f0ca",
  "deepnote_execution_queue": []
 }
}